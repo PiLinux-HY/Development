{
  "cells": [
    {
      "cell_type": "code",
      "execution_count": null,
      "metadata": {
        "colab": {
          "base_uri": "https://localhost:8080/"
        },
        "id": "HrfBylVU4F7d",
        "outputId": "d61eae27-53b4-417d-9731-61a3730f7780"
      },
      "outputs": [],
      "source": [
        "!curl -s https://raw.githubusercontent.com/teddylee777/machine-learning/master/99-Misc/01-Colab/mecab-colab.sh | bash"
      ]
    },
    {
      "cell_type": "code",
      "execution_count": 82,
      "metadata": {
        "colab": {
          "base_uri": "https://localhost:8080/"
        },
        "id": "EMgfSpJ94Xw6",
        "outputId": "4eddd1d4-a1e9-4dea-cd4f-02a0fee3e6f7"
      },
      "outputs": [
        {
          "data": {
            "text/plain": [
              "['한글', '형태소', '분석', '기', '로', '테스트', '를', '해보았습니다', '.']"
            ]
          },
          "execution_count": 82,
          "metadata": {},
          "output_type": "execute_result"
        }
      ],
      "source": [
        "from konlpy.tag import Okt, Mecab\n",
        "\n",
        "okt = Okt()\n",
        "\n",
        "okt.morphs('한글 형태소 분석기로 테스트를 해보았습니다.')"
      ]
    },
    {
      "cell_type": "code",
      "execution_count": 83,
      "metadata": {
        "colab": {
          "base_uri": "https://localhost:8080/"
        },
        "id": "9cqm3_8T9r3v",
        "outputId": "e8cee4c5-e769-40dc-8d11-1456df5d44e3"
      },
      "outputs": [
        {
          "data": {
            "text/plain": [
              "['나', '는', '학교', '에', '갈거야']"
            ]
          },
          "execution_count": 83,
          "metadata": {},
          "output_type": "execute_result"
        }
      ],
      "source": [
        "okt.morphs('나는 학교에 갈거야')"
      ]
    },
    {
      "cell_type": "code",
      "execution_count": 84,
      "metadata": {
        "colab": {
          "base_uri": "https://localhost:8080/"
        },
        "id": "zkVjIIoS-Do1",
        "outputId": "c85ed621-01c4-4244-c68c-98f3cc95c290"
      },
      "outputs": [
        {
          "data": {
            "text/plain": [
              "['나', '는', '학술', '정보', '관', '에', '갈거야']"
            ]
          },
          "execution_count": 84,
          "metadata": {},
          "output_type": "execute_result"
        }
      ],
      "source": [
        "okt.morphs(\"나는 학술 정보관에 갈거야\")"
      ]
    },
    {
      "cell_type": "code",
      "execution_count": 108,
      "metadata": {
        "colab": {
          "base_uri": "https://localhost:8080/"
        },
        "id": "WHW6GloF_rYF",
        "outputId": "e1b43228-c764-497f-fdf2-4dd824d59571"
      },
      "outputs": [
        {
          "name": "stdout",
          "output_type": "stream",
          "text": [
            "1  나  O\n",
            "2  는  O\n",
            "3  학술  B_LOC\n",
            "4  정보  I_LOC\n",
            "5  관  I_LOC\n",
            "6  에  O\n",
            "7  갈거야  O\n",
            "\n",
            "\n"
          ]
        }
      ],
      "source": [
        "import json\n",
        "import pandas as pd\n",
        "entities = []\n",
        "def tagging(sentence):\n",
        "\n",
        "  i = 1\n",
        "  okt = Okt()\n",
        "  words = okt.pos(sentence)\n",
        "  flag = 0\n",
        "  tagged_result = []\n",
        "  for word, pos in words:\n",
        "      if (word in library) and flag == 0:\n",
        "        tagged_result.append((word, 'B_LOC'))\n",
        "        #entities.append(word)\n",
        "        print( str(i) + \"  \" + word + \"  B_LOC\")\n",
        "        flag = 1\n",
        "        i = i + 1\n",
        "      elif word in library :\n",
        "        tagged_result.append((word, 'I_LOC'))\n",
        "        #entities.append(word)\n",
        "        print( str(i) + \"  \" + word + \"  I_LOC\")\n",
        "        i= i + 1\n",
        "      else:\n",
        "        tagged_result.append((word, '0'))\n",
        "        #entities.append(word)\n",
        "        print( str(i) + \"  \" + word + \"  O\")\n",
        "        i = i+1\n",
        "  print(\"\\n\")\n",
        "  return tagged_result\n",
        "\n",
        "sentence = \"나는 학술 정보관에 갈거야\"\n",
        "\n",
        "result = tagging(sentence)"
      ]
    },
    {
      "cell_type": "code",
      "execution_count": null,
      "metadata": {
        "colab": {
          "base_uri": "https://localhost:8080/"
        },
        "id": "DPAgLGZoCceB",
        "outputId": "c8dde019-3b59-4293-c53b-11be9dc90950"
      },
      "outputs": [],
      "source": [
        "place = ['본관', '학생복지관', '학생회관', '제2공학관', '건축디자인관', '초대형구조실험동','풍환경실험관', '수리실험동', '디자인문화관', '디자인교육관','디자인교육관', '디자인연구관','스마트건축관', '경상관', '국제문화관', '사회교육관','학군단', '언곤정보관', '제1과학기술관', '컨퍼런스홀','제2과학기술관']\n",
        "\n",
        "place.extend(['한양 맞춤의약연구원', '제1학술관', '제1공학관','폐수처리장관리동', '제3공학관', '제4공학관','제5공학관','셔틀콕','에리카컨벤션센터','창업보육센터', '약학관','동물실험동','학연산클러스터지원센터','산학연협력관','포장가속실험동','퓨전전기기술응용연구센터','비엠알센터','학술정보관','체육관','실용음악관', '대운동장', '테니스장', '창의관', '인재관', '행복관', '창의인재원 교육관'])\n",
        "\n",
        "\n",
        "for location in place:\n",
        "  result = tagging(location)\n",
        "  print(result)\n",
        "print(entities)"
      ]
    },
    {
      "cell_type": "code",
      "execution_count": 110,
      "metadata": {
        "colab": {
          "base_uri": "https://localhost:8080/"
        },
        "id": "d6bZXtmXN-_q",
        "outputId": "fe121f66-5b36-4d16-fde4-c3ac16dc7fc9"
      },
      "outputs": [
        {
          "name": "stdout",
          "output_type": "stream",
          "text": [
            "/bin/bash: line 1: ../..: Is a directory\n"
          ]
        }
      ],
      "source": [
        "!../..\n",
        "!cd /content"
      ]
    },
    {
      "cell_type": "code",
      "execution_count": 111,
      "metadata": {
        "colab": {
          "base_uri": "https://localhost:8080/"
        },
        "id": "-m5YkXFfOWOV",
        "outputId": "9b20000b-76ff-489d-db14-265cef87ac60"
      },
      "outputs": [
        {
          "name": "stdout",
          "output_type": "stream",
          "text": [
            "/content\n"
          ]
        }
      ],
      "source": [
        "!pwd"
      ]
    },
    {
      "cell_type": "code",
      "execution_count": null,
      "metadata": {
        "colab": {
          "base_uri": "https://localhost:8080/"
        },
        "id": "dELL9zylIPqi",
        "outputId": "0f570b69-6e4b-4f7e-fedb-f44aafed4700"
      },
      "outputs": [],
      "source": [
        "person = ['나는', '내가', '나', '우리는', '우리'] # 5개\n",
        "place = ['본관', '학생복지관', '학생회관', '제2공학관', '건축디자인관', '초대형구조실험동','풍환경실험관', '수리실험동', '디자인문화관', '디자인교육관','디자인교육관', '디자인연구관','스마트건축관', '경상관', '국제문화관', '사회교육관','학군단', '언곤정보관', '제1과학기술관', '컨퍼런스홀','제2과학기술관']\n",
        "place.extend(['한양 맞춤의약연구원', '제1학술관', '제1공학관','폐수처리장관리동', '제3공학관', '제4공학관','제5공학관','셔틀콕','에리카컨벤션센터','창업보육센터', '약학관','동물실험동','학연산클러스터지원센터','산학연협력관','포장가속실험동','퓨전전기기술응용연구센터','비엠알센터','학술정보관','체육관','실용음악관', '대운동장', '테니스장', '창의관', '인재관', '행복관', '창의인재원 교육관'])\n",
        "#place = ['도서관', '학술정보관','제1공학관', '제2공학관', '제3공학관', '','기숙사', '과기관', '셔틀콕', '1공', '3공', '1공학관', '2공학관',  '게스트하우스', '창의인재원', '창의 인재원','인재관','행복관', '창의관', '호공', '호수공원', '호수 공원', '대운동장', '복지관']  # 23개\n",
        "\n",
        "library = ['본관', '학생', '복지관', '학생', '회관', '제', '2', '공', '학관', '건축', '디자인', '관', '초대형', '구조', '실험', '동', '풍', '환경', '실험', '관', '수리', '실험', '동', '디자인', '문', '화관', '디자인', '교육', '관', '디자인', '교육', '관', '디자인', '연', '구관', '스마트', '건축', '관', '경', '상관', '국제', '문', '화관', '사회', '교육', '관', '학군단', '언', '곤', '정보', '관', '제', '1', '과학기술관', '컨퍼런스', '홀', '제', '2', '과학기술관', '한양', '맞춤', '의', '약', '연구원', '제', '1', '학술', '관', '제', '1', '공', '학관', '폐수처리', '장', '관리', '동', '제', '3', '공', '학관', '제', '4', '공', '학관', '제', '5', '공', '학관', '셔틀콕', '에리', '카', '컨벤션', '센터', '창업', '보육', '센터', '약', '학관', '동물실험', '동', '학', '연산', '클러스터', '지원', '센터', '산학', '연', '협력', '관', '포장', '가', '속', '실험', '동', '퓨전', '전', '기', '기술', '응용', '연', '구', '센터', '비엠알', '센터', '학술', '정보', '관', '체육관', '실용음악', '관', '대', '운동장', '테니스장', '창의', '관', '인재', '관', '행복', '관', '창의', '인재', '원', '교육', '관']\n",
        "\n",
        "\n",
        "sentence = [\"\",\"에 가고 싶어\" , \"에 갈거야\", \"에 갈 예정이야\", \"에 가고 싶어\", \" 갈래\", \"에 갈래\", \"에 가고 싶습니다\", \" 가고 싶습니다\", \" 가고 싶어요\", \"에 가고 싶어요\",\" 가도 되나요\", \" 가도 될까요\",\"을 가도 될까요\", \"으로 가고 싶다\", \"으로 가고 싶습니다\"] # 16개\n",
        "\n",
        "\n",
        "for subject in person:\n",
        "    for object in place:\n",
        "        for verb in sentence:\n",
        "          string = subject + \" \" + object + verb\n",
        "          result = tagging(string)\n",
        "          #print(result)\n",
        "          #with open(\"./dataset.json\", \"w\", encoding = \"utf-8\") as json_file:\n",
        "                #json.dump(result, json_file, ensure_ascii=False, )\n",
        "                #json.dump(, /r, json_file )"
      ]
    }
  ],
  "metadata": {
    "colab": {
      "provenance": []
    },
    "kernelspec": {
      "display_name": "Python 3",
      "name": "python3"
    },
    "language_info": {
      "name": "python"
    }
  },
  "nbformat": 4,
  "nbformat_minor": 0
}
